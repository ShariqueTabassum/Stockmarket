{
 "cells": [
  {
   "cell_type": "markdown",
   "id": "f75bdc72",
   "metadata": {},
   "source": [
    "# Stock market price prediction using twitter Sentiment Analysis\n",
    "\n",
    "### Note: Please don't uncomment "
   ]
  },
  {
   "cell_type": "markdown",
   "id": "d00da545",
   "metadata": {},
   "source": [
    "### importing all the required libraries"
   ]
  },
  {
   "cell_type": "code",
   "execution_count": 1,
   "id": "641e4689",
   "metadata": {},
   "outputs": [],
   "source": [
    "import numpy as np\n",
    "import pandas as pd\n",
    "from nltk.classify import NaiveBayesClassifier\n",
    "from nltk.corpus import subjectivity\n",
    "from nltk.sentiment import SentimentAnalyzer\n",
    "from nltk.sentiment.util import *\n",
    "import matplotlib.pyplot as mlpt\n",
    "import tweepy\n",
    "import csv\n",
    "import random\n",
    "# import warning\n",
    "# warning.filterwarnings('ignore')"
   ]
  },
  {
   "cell_type": "markdown",
   "id": "640683cb",
   "metadata": {},
   "source": [
    "### Keys for Twitter API"
   ]
  },
  {
   "cell_type": "code",
   "execution_count": 2,
   "id": "f4579da4",
   "metadata": {},
   "outputs": [],
   "source": [
    "# All Keys \n",
    "consumer_key = \"Npwlgs3JiPp4bTAFbVblPjTJu\"\n",
    "consumer_secret = \"nY7OdO460jDbshS35xb0L47ydWdBwimL8N8j7P6NygicIyS2hx\"\n",
    "access_token = \"706057362898067456-4uBYLSUjo1ZfOEriSTRsMjqE5BIpV1w\"\n",
    "access_token_secret = \"aTjCcGMarS7vAr9bPklXNHnBFlsN34IxCIDq7QgtL8lRv\"\n",
    "API_KEY = '3zn31CxIHmKnceosjdJxMIEz4'\n",
    "API_SECRET_KEY = '5VELegb6NciLmAyFaM5hAnQ8jcmKxUfBUrjBOECS24nLJOg3cS'\n",
    "# access_token_secret = os.environ[\"ACCESS_TOKEN_SECRET\"]"
   ]
  },
  {
   "cell_type": "markdown",
   "id": "56651a76",
   "metadata": {},
   "source": [
    "### Authentication "
   ]
  },
  {
   "cell_type": "code",
   "execution_count": 3,
   "id": "e1435938",
   "metadata": {},
   "outputs": [],
   "source": [
    "# auth = tweepy.OAuthHandler(\n",
    "#     consumer_key,\n",
    "#     consumer_secret,\n",
    "#     access_token,\n",
    "#     access_token_secret\n",
    "# )\n",
    "# api = tweepy.API(auth,wait_on_rate_limit=True)\n",
    "\n",
    "\n",
    "auth  = tweepy.OAuthHandler(API_KEY,API_SECRET_KEY)\n",
    "auth.set_access_token(access_token,access_token_secret)\n",
    "api = tweepy.API(auth)"
   ]
  },
  {
   "cell_type": "markdown",
   "id": "cfa8abc7",
   "metadata": {},
   "source": [
    "### Fetching tweets for HDFC Bank Limited"
   ]
  },
  {
   "cell_type": "code",
   "execution_count": 4,
   "id": "2ca554f9",
   "metadata": {},
   "outputs": [],
   "source": [
    "# fetch_tweets=tweepy.Cursor(api.search_tweets, q=\"#hdfc\", count=100, lang =\"en\", until=\"2023-05-27\", tweet_mode=\"extended\").items()"
   ]
  },
  {
   "cell_type": "markdown",
   "id": "535c8fc7",
   "metadata": {},
   "source": [
    "### Creating Data Frame of HDFC tweets data"
   ]
  },
  {
   "cell_type": "code",
   "execution_count": 5,
   "id": "51615543",
   "metadata": {},
   "outputs": [],
   "source": [
    "# # Created data frame using pandas\n",
    "# data=pd.DataFrame(data=[[tweet_info.created_at.date(),tweet_info.full_text]for tweet_info in fetch_tweets],columns=['Date','Tweets'])\n",
    "# # Show data\n",
    "# data\n"
   ]
  },
  {
   "cell_type": "code",
   "execution_count": 6,
   "id": "4ffe01c6",
   "metadata": {},
   "outputs": [],
   "source": [
    "# data[\"Tweets\"].head()"
   ]
  },
  {
   "cell_type": "markdown",
   "id": "27b64061",
   "metadata": {},
   "source": [
    "## Reading Stored Tweets"
   ]
  },
  {
   "cell_type": "code",
   "execution_count": 7,
   "id": "5afe1775",
   "metadata": {
    "scrolled": true
   },
   "outputs": [
    {
     "data": {
      "text/html": [
       "<div>\n",
       "<style scoped>\n",
       "    .dataframe tbody tr th:only-of-type {\n",
       "        vertical-align: middle;\n",
       "    }\n",
       "\n",
       "    .dataframe tbody tr th {\n",
       "        vertical-align: top;\n",
       "    }\n",
       "\n",
       "    .dataframe thead th {\n",
       "        text-align: right;\n",
       "    }\n",
       "</style>\n",
       "<table border=\"1\" class=\"dataframe\">\n",
       "  <thead>\n",
       "    <tr style=\"text-align: right;\">\n",
       "      <th></th>\n",
       "      <th>No</th>\n",
       "      <th>Date</th>\n",
       "      <th>Tweets</th>\n",
       "    </tr>\n",
       "  </thead>\n",
       "  <tbody>\n",
       "    <tr>\n",
       "      <th>0</th>\n",
       "      <td>1</td>\n",
       "      <td>10-12-2022</td>\n",
       "      <td>#HDFC $HDFC Monthwise Daily High - Low Movemen...</td>\n",
       "    </tr>\n",
       "    <tr>\n",
       "      <th>1</th>\n",
       "      <td>2</td>\n",
       "      <td>10-12-2022</td>\n",
       "      <td>#NIFTY #NIFTY50 #India50 #Banknifty #Finnifty\\...</td>\n",
       "    </tr>\n",
       "    <tr>\n",
       "      <th>2</th>\n",
       "      <td>3</td>\n",
       "      <td>10-12-2022</td>\n",
       "      <td>Premium Real Estate Facebook &amp;amp; Linkedin Gr...</td>\n",
       "    </tr>\n",
       "    <tr>\n",
       "      <th>3</th>\n",
       "      <td>4</td>\n",
       "      <td>10-12-2022</td>\n",
       "      <td>#HDFC $HDFC Daily #Stock Chart with 100 days #...</td>\n",
       "    </tr>\n",
       "    <tr>\n",
       "      <th>4</th>\n",
       "      <td>5</td>\n",
       "      <td>10-12-2022</td>\n",
       "      <td>#hdfc weekly https://t.co/BeW9U1nsXf</td>\n",
       "    </tr>\n",
       "    <tr>\n",
       "      <th>...</th>\n",
       "      <td>...</td>\n",
       "      <td>...</td>\n",
       "      <td>...</td>\n",
       "    </tr>\n",
       "    <tr>\n",
       "      <th>5647</th>\n",
       "      <td>668</td>\n",
       "      <td>2023-02-14</td>\n",
       "      <td>#HDFC 🇮🇳 on the #NSE #Block of 22,483 shares a...</td>\n",
       "    </tr>\n",
       "    <tr>\n",
       "      <th>5648</th>\n",
       "      <td>669</td>\n",
       "      <td>2023-02-14</td>\n",
       "      <td>HDFC Bank: launched a pilot project known as '...</td>\n",
       "    </tr>\n",
       "    <tr>\n",
       "      <th>5649</th>\n",
       "      <td>670</td>\n",
       "      <td>2023-02-14</td>\n",
       "      <td>RT @m2pfintech: HDFC Bank begins offline payme...</td>\n",
       "    </tr>\n",
       "    <tr>\n",
       "      <th>5650</th>\n",
       "      <td>671</td>\n",
       "      <td>2023-02-14</td>\n",
       "      <td>HDFC Bank begins offline payment pilot under R...</td>\n",
       "    </tr>\n",
       "    <tr>\n",
       "      <th>5651</th>\n",
       "      <td>672</td>\n",
       "      <td>2023-02-14</td>\n",
       "      <td>RT @SPTradingDesk: Intraday Breakout Soon Stoc...</td>\n",
       "    </tr>\n",
       "  </tbody>\n",
       "</table>\n",
       "<p>5652 rows × 3 columns</p>\n",
       "</div>"
      ],
      "text/plain": [
       "       No        Date                                             Tweets\n",
       "0       1  10-12-2022  #HDFC $HDFC Monthwise Daily High - Low Movemen...\n",
       "1       2  10-12-2022  #NIFTY #NIFTY50 #India50 #Banknifty #Finnifty\\...\n",
       "2       3  10-12-2022  Premium Real Estate Facebook &amp; Linkedin Gr...\n",
       "3       4  10-12-2022  #HDFC $HDFC Daily #Stock Chart with 100 days #...\n",
       "4       5  10-12-2022               #hdfc weekly https://t.co/BeW9U1nsXf\n",
       "...   ...         ...                                                ...\n",
       "5647  668  2023-02-14  #HDFC 🇮🇳 on the #NSE #Block of 22,483 shares a...\n",
       "5648  669  2023-02-14  HDFC Bank: launched a pilot project known as '...\n",
       "5649  670  2023-02-14  RT @m2pfintech: HDFC Bank begins offline payme...\n",
       "5650  671  2023-02-14  HDFC Bank begins offline payment pilot under R...\n",
       "5651  672  2023-02-14  RT @SPTradingDesk: Intraday Breakout Soon Stoc...\n",
       "\n",
       "[5652 rows x 3 columns]"
      ]
     },
     "execution_count": 7,
     "metadata": {},
     "output_type": "execute_result"
    }
   ],
   "source": [
    "tweets = pd.read_csv('./Tweets.csv')\n",
    "\n",
    "# adding header\n",
    "headerList = ['No','Date', 'Tweets']\n",
    "  \n",
    "# converting data frame to csv\n",
    "tweets.to_csv(\"StoredTweets.csv\", header=headerList, index=False)\n",
    "\n",
    "data = pd.read_csv(\"StoredTweets.csv\")\n",
    "data"
   ]
  },
  {
   "cell_type": "markdown",
   "id": "0cd758dd",
   "metadata": {},
   "source": [
    "### Removing special character from each tweets"
   ]
  },
  {
   "cell_type": "code",
   "execution_count": 8,
   "id": "9301f061",
   "metadata": {},
   "outputs": [
    {
     "data": {
      "text/html": [
       "<div>\n",
       "<style scoped>\n",
       "    .dataframe tbody tr th:only-of-type {\n",
       "        vertical-align: middle;\n",
       "    }\n",
       "\n",
       "    .dataframe tbody tr th {\n",
       "        vertical-align: top;\n",
       "    }\n",
       "\n",
       "    .dataframe thead th {\n",
       "        text-align: right;\n",
       "    }\n",
       "</style>\n",
       "<table border=\"1\" class=\"dataframe\">\n",
       "  <thead>\n",
       "    <tr style=\"text-align: right;\">\n",
       "      <th></th>\n",
       "      <th>Date</th>\n",
       "      <th>Tweets</th>\n",
       "    </tr>\n",
       "  </thead>\n",
       "  <tbody>\n",
       "    <tr>\n",
       "      <th>0</th>\n",
       "      <td>10-12-2022</td>\n",
       "      <td>HDFC  HDFC Monthwise Daily High   Low Movemen...</td>\n",
       "    </tr>\n",
       "    <tr>\n",
       "      <th>1</th>\n",
       "      <td>10-12-2022</td>\n",
       "      <td>NIFTY  NIFTY50  India50  Banknifty  Finnifty ...</td>\n",
       "    </tr>\n",
       "    <tr>\n",
       "      <th>2</th>\n",
       "      <td>10-12-2022</td>\n",
       "      <td>Premium Real Estate Facebook  amp  Linkedin Gr...</td>\n",
       "    </tr>\n",
       "    <tr>\n",
       "      <th>3</th>\n",
       "      <td>10-12-2022</td>\n",
       "      <td>HDFC  HDFC Daily  Stock Chart with 100 days  ...</td>\n",
       "    </tr>\n",
       "    <tr>\n",
       "      <th>4</th>\n",
       "      <td>10-12-2022</td>\n",
       "      <td>hdfc weekly https   t co BeW9U1nsXf</td>\n",
       "    </tr>\n",
       "    <tr>\n",
       "      <th>...</th>\n",
       "      <td>...</td>\n",
       "      <td>...</td>\n",
       "    </tr>\n",
       "    <tr>\n",
       "      <th>5647</th>\n",
       "      <td>2023-02-14</td>\n",
       "      <td>HDFC    on the  NSE  Block of 22 483 shares a...</td>\n",
       "    </tr>\n",
       "    <tr>\n",
       "      <th>5648</th>\n",
       "      <td>2023-02-14</td>\n",
       "      <td>HDFC Bank  launched a pilot project known as  ...</td>\n",
       "    </tr>\n",
       "    <tr>\n",
       "      <th>5649</th>\n",
       "      <td>2023-02-14</td>\n",
       "      <td>RT  m2pfintech  HDFC Bank begins offline payme...</td>\n",
       "    </tr>\n",
       "    <tr>\n",
       "      <th>5650</th>\n",
       "      <td>2023-02-14</td>\n",
       "      <td>HDFC Bank begins offline payment pilot under R...</td>\n",
       "    </tr>\n",
       "    <tr>\n",
       "      <th>5651</th>\n",
       "      <td>2023-02-14</td>\n",
       "      <td>RT  SPTradingDesk  Intraday Breakout Soon Stoc...</td>\n",
       "    </tr>\n",
       "  </tbody>\n",
       "</table>\n",
       "<p>5652 rows × 2 columns</p>\n",
       "</div>"
      ],
      "text/plain": [
       "            Date                                             Tweets\n",
       "0     10-12-2022   HDFC  HDFC Monthwise Daily High   Low Movemen...\n",
       "1     10-12-2022   NIFTY  NIFTY50  India50  Banknifty  Finnifty ...\n",
       "2     10-12-2022  Premium Real Estate Facebook  amp  Linkedin Gr...\n",
       "3     10-12-2022   HDFC  HDFC Daily  Stock Chart with 100 days  ...\n",
       "4     10-12-2022                hdfc weekly https   t co BeW9U1nsXf\n",
       "...          ...                                                ...\n",
       "5647  2023-02-14   HDFC    on the  NSE  Block of 22 483 shares a...\n",
       "5648  2023-02-14  HDFC Bank  launched a pilot project known as  ...\n",
       "5649  2023-02-14  RT  m2pfintech  HDFC Bank begins offline payme...\n",
       "5650  2023-02-14  HDFC Bank begins offline payment pilot under R...\n",
       "5651  2023-02-14  RT  SPTradingDesk  Intraday Breakout Soon Stoc...\n",
       "\n",
       "[5652 rows x 2 columns]"
      ]
     },
     "execution_count": 8,
     "metadata": {},
     "output_type": "execute_result"
    }
   ],
   "source": [
    "# Creating a csv file of tweet data\n",
    "# data.to_csv('Tweets.csv')\n",
    "\n",
    "# Append Pandas DataFrame to Existing CSV File\n",
    "# append data frame to CSV file\n",
    "# data.to_csv('Tweets.csv', mode='a', header=False)\n",
    "\n",
    "# Creating cData frame\n",
    "clean_data = pd.DataFrame(columns=['Date','Tweets'])\n",
    "index = 0\n",
    "total = 100\n",
    "for index,row in data.iterrows():\n",
    "    tweet_re = row[\"Tweets\"]\n",
    "    # Remove special character using re \n",
    "    my_new_tweet = re.sub('[^a-zA-Z0-9]',' ',tweet_re)\n",
    "    temp_df = pd.DataFrame([[data['Date'].iloc[index],my_new_tweet]], columns = [\"Date\", 'Tweets'])\n",
    "    clean_data = pd.concat([clean_data, temp_df], axis=0).reset_index(drop=True)\n",
    "\n",
    "# Show clean_data\n",
    "clean_data"
   ]
  },
  {
   "cell_type": "markdown",
   "id": "5e88e0e5",
   "metadata": {},
   "source": [
    "#### Creating a dataframe where we will combine the tweets date wise and store into combine_clean_data"
   ]
  },
  {
   "cell_type": "code",
   "execution_count": 9,
   "id": "dcca24e9",
   "metadata": {},
   "outputs": [],
   "source": [
    "combine_clean_data = pd.DataFrame(columns=['Date','Tweets'])"
   ]
  },
  {
   "cell_type": "code",
   "execution_count": 10,
   "id": "95777403",
   "metadata": {},
   "outputs": [],
   "source": [
    "indx=0\n",
    "get_tweet=\"\"\n",
    "for i in range(0,len(clean_data)-1):\n",
    "    get_date = clean_data.Date.iloc[i]\n",
    "    next_date = clean_data.Date.iloc[i+1]\n",
    "    \n",
    "    if(str(get_date) == str(next_date)):\n",
    "        get_tweet=get_tweet + clean_data.Tweets.iloc[i] + \" \"\n",
    "        \n",
    "    if(str(get_date)!=str(next_date)):\n",
    "        temp_df = pd.DataFrame([[get_date, \n",
    "                                get_tweet]], columns = ['Date','Tweets'])\n",
    "        combine_clean_data = pd.concat([combine_clean_data, temp_df], axis = 0).reset_index(drop = True)\n",
    "        get_tweet=\" \""
   ]
  },
  {
   "cell_type": "markdown",
   "id": "156d9044",
   "metadata": {},
   "source": [
    "#### All the tweets has been clubbed as per their date.\n"
   ]
  },
  {
   "cell_type": "code",
   "execution_count": 11,
   "id": "60378cb0",
   "metadata": {},
   "outputs": [
    {
     "data": {
      "text/html": [
       "<div>\n",
       "<style scoped>\n",
       "    .dataframe tbody tr th:only-of-type {\n",
       "        vertical-align: middle;\n",
       "    }\n",
       "\n",
       "    .dataframe tbody tr th {\n",
       "        vertical-align: top;\n",
       "    }\n",
       "\n",
       "    .dataframe thead th {\n",
       "        text-align: right;\n",
       "    }\n",
       "</style>\n",
       "<table border=\"1\" class=\"dataframe\">\n",
       "  <thead>\n",
       "    <tr style=\"text-align: right;\">\n",
       "      <th></th>\n",
       "      <th>Date</th>\n",
       "      <th>Tweets</th>\n",
       "    </tr>\n",
       "  </thead>\n",
       "  <tbody>\n",
       "    <tr>\n",
       "      <th>0</th>\n",
       "      <td>10-12-2022</td>\n",
       "      <td>HDFC  HDFC Monthwise Daily High   Low Movemen...</td>\n",
       "    </tr>\n",
       "    <tr>\n",
       "      <th>1</th>\n",
       "      <td>09-12-2022</td>\n",
       "      <td>OptionChain    HDFC  Stock  Bearish  PCR  0 ...</td>\n",
       "    </tr>\n",
       "    <tr>\n",
       "      <th>2</th>\n",
       "      <td>08-12-2022</td>\n",
       "      <td>From 10th January 2023 to 7th June 2023 pleas...</td>\n",
       "    </tr>\n",
       "    <tr>\n",
       "      <th>3</th>\n",
       "      <td>07-12-2022</td>\n",
       "      <td>HDFC  HDFC chart suggests  Fibonacci based  ...</td>\n",
       "    </tr>\n",
       "    <tr>\n",
       "      <th>4</th>\n",
       "      <td>06-12-2022</td>\n",
       "      <td>RedmiA1 at Rs 5669 only   Offer using  HDF...</td>\n",
       "    </tr>\n",
       "    <tr>\n",
       "      <th>...</th>\n",
       "      <td>...</td>\n",
       "      <td>...</td>\n",
       "    </tr>\n",
       "    <tr>\n",
       "      <th>68</th>\n",
       "      <td>2023-02-19</td>\n",
       "      <td>Dear  HDFCBank Cares   I have your cc which h...</td>\n",
       "    </tr>\n",
       "    <tr>\n",
       "      <th>69</th>\n",
       "      <td>2023-02-18</td>\n",
       "      <td>HDFC  HDFC Monthwise Daily High   Low Moveme...</td>\n",
       "    </tr>\n",
       "    <tr>\n",
       "      <th>70</th>\n",
       "      <td>2023-02-17</td>\n",
       "      <td>OptionChain    HDFC  Stock  Bearish  PCR  0 ...</td>\n",
       "    </tr>\n",
       "    <tr>\n",
       "      <th>71</th>\n",
       "      <td>2023-02-16</td>\n",
       "      <td>OptionChain    HDFC  Stock  Bearish  PCR  0 ...</td>\n",
       "    </tr>\n",
       "    <tr>\n",
       "      <th>72</th>\n",
       "      <td>2023-02-15</td>\n",
       "      <td>RT  AutusInvestment   Positional 60M candle c...</td>\n",
       "    </tr>\n",
       "  </tbody>\n",
       "</table>\n",
       "<p>73 rows × 2 columns</p>\n",
       "</div>"
      ],
      "text/plain": [
       "          Date                                             Tweets\n",
       "0   10-12-2022   HDFC  HDFC Monthwise Daily High   Low Movemen...\n",
       "1   09-12-2022    OptionChain    HDFC  Stock  Bearish  PCR  0 ...\n",
       "2   08-12-2022   From 10th January 2023 to 7th June 2023 pleas...\n",
       "3   07-12-2022    HDFC  HDFC chart suggests  Fibonacci based  ...\n",
       "4   06-12-2022      RedmiA1 at Rs 5669 only   Offer using  HDF...\n",
       "..         ...                                                ...\n",
       "68  2023-02-19   Dear  HDFCBank Cares   I have your cc which h...\n",
       "69  2023-02-18    HDFC  HDFC Monthwise Daily High   Low Moveme...\n",
       "70  2023-02-17    OptionChain    HDFC  Stock  Bearish  PCR  0 ...\n",
       "71  2023-02-16    OptionChain    HDFC  Stock  Bearish  PCR  0 ...\n",
       "72  2023-02-15   RT  AutusInvestment   Positional 60M candle c...\n",
       "\n",
       "[73 rows x 2 columns]"
      ]
     },
     "execution_count": 11,
     "metadata": {},
     "output_type": "execute_result"
    }
   ],
   "source": [
    "# Show Datafame \n",
    "combine_clean_data"
   ]
  },
  {
   "cell_type": "markdown",
   "id": "b8a0cf97",
   "metadata": {},
   "source": [
    "#### Now to know the \"closing price\" of each day we will import STOCK PRICE DATA for HDFC Bank from \"yahoo.finance\". We will consider \"Close\" price only.\n"
   ]
  },
  {
   "cell_type": "code",
   "execution_count": 12,
   "id": "235695dd",
   "metadata": {},
   "outputs": [
    {
     "data": {
      "text/html": [
       "<div>\n",
       "<style scoped>\n",
       "    .dataframe tbody tr th:only-of-type {\n",
       "        vertical-align: middle;\n",
       "    }\n",
       "\n",
       "    .dataframe tbody tr th {\n",
       "        vertical-align: top;\n",
       "    }\n",
       "\n",
       "    .dataframe thead th {\n",
       "        text-align: right;\n",
       "    }\n",
       "</style>\n",
       "<table border=\"1\" class=\"dataframe\">\n",
       "  <thead>\n",
       "    <tr style=\"text-align: right;\">\n",
       "      <th></th>\n",
       "      <th>Date</th>\n",
       "      <th>Open</th>\n",
       "      <th>High</th>\n",
       "      <th>Low</th>\n",
       "      <th>Close</th>\n",
       "      <th>Adj Close</th>\n",
       "      <th>Volume</th>\n",
       "    </tr>\n",
       "  </thead>\n",
       "  <tbody>\n",
       "    <tr>\n",
       "      <th>0</th>\n",
       "      <td>15-02-2022</td>\n",
       "      <td>1476.000000</td>\n",
       "      <td>1524.900024</td>\n",
       "      <td>1473.050049</td>\n",
       "      <td>1517.800049</td>\n",
       "      <td>1500.355347</td>\n",
       "      <td>6567533</td>\n",
       "    </tr>\n",
       "    <tr>\n",
       "      <th>1</th>\n",
       "      <td>16-02-2022</td>\n",
       "      <td>1534.349976</td>\n",
       "      <td>1534.750000</td>\n",
       "      <td>1507.000000</td>\n",
       "      <td>1515.750000</td>\n",
       "      <td>1498.328857</td>\n",
       "      <td>5016132</td>\n",
       "    </tr>\n",
       "    <tr>\n",
       "      <th>2</th>\n",
       "      <td>17-02-2022</td>\n",
       "      <td>1513.099976</td>\n",
       "      <td>1522.000000</td>\n",
       "      <td>1502.000000</td>\n",
       "      <td>1506.500000</td>\n",
       "      <td>1489.185181</td>\n",
       "      <td>3675604</td>\n",
       "    </tr>\n",
       "    <tr>\n",
       "      <th>3</th>\n",
       "      <td>18-02-2022</td>\n",
       "      <td>1498.300049</td>\n",
       "      <td>1517.000000</td>\n",
       "      <td>1490.449951</td>\n",
       "      <td>1512.349976</td>\n",
       "      <td>1494.967896</td>\n",
       "      <td>3898064</td>\n",
       "    </tr>\n",
       "    <tr>\n",
       "      <th>4</th>\n",
       "      <td>21-02-2022</td>\n",
       "      <td>1504.000000</td>\n",
       "      <td>1530.699951</td>\n",
       "      <td>1495.550049</td>\n",
       "      <td>1522.099976</td>\n",
       "      <td>1504.605835</td>\n",
       "      <td>3734033</td>\n",
       "    </tr>\n",
       "    <tr>\n",
       "      <th>...</th>\n",
       "      <td>...</td>\n",
       "      <td>...</td>\n",
       "      <td>...</td>\n",
       "      <td>...</td>\n",
       "      <td>...</td>\n",
       "      <td>...</td>\n",
       "      <td>...</td>\n",
       "    </tr>\n",
       "    <tr>\n",
       "      <th>245</th>\n",
       "      <td>09-02-2023</td>\n",
       "      <td>1660.000000</td>\n",
       "      <td>1661.650024</td>\n",
       "      <td>1635.550049</td>\n",
       "      <td>1650.550049</td>\n",
       "      <td>1650.550049</td>\n",
       "      <td>5888668</td>\n",
       "    </tr>\n",
       "    <tr>\n",
       "      <th>246</th>\n",
       "      <td>10-02-2023</td>\n",
       "      <td>1648.800049</td>\n",
       "      <td>1658.500000</td>\n",
       "      <td>1642.199951</td>\n",
       "      <td>1657.099976</td>\n",
       "      <td>1657.099976</td>\n",
       "      <td>4086058</td>\n",
       "    </tr>\n",
       "    <tr>\n",
       "      <th>247</th>\n",
       "      <td>13-02-2023</td>\n",
       "      <td>1655.000000</td>\n",
       "      <td>1661.750000</td>\n",
       "      <td>1644.550049</td>\n",
       "      <td>1658.349976</td>\n",
       "      <td>1658.349976</td>\n",
       "      <td>2868472</td>\n",
       "    </tr>\n",
       "    <tr>\n",
       "      <th>248</th>\n",
       "      <td>14-02-2023</td>\n",
       "      <td>1665.000000</td>\n",
       "      <td>1677.500000</td>\n",
       "      <td>1657.949951</td>\n",
       "      <td>1673.699951</td>\n",
       "      <td>1673.699951</td>\n",
       "      <td>5454296</td>\n",
       "    </tr>\n",
       "    <tr>\n",
       "      <th>249</th>\n",
       "      <td>15-02-2023</td>\n",
       "      <td>1678.000000</td>\n",
       "      <td>1678.000000</td>\n",
       "      <td>1657.650024</td>\n",
       "      <td>1670.300049</td>\n",
       "      <td>1670.300049</td>\n",
       "      <td>5718988</td>\n",
       "    </tr>\n",
       "  </tbody>\n",
       "</table>\n",
       "<p>250 rows × 7 columns</p>\n",
       "</div>"
      ],
      "text/plain": [
       "           Date         Open         High          Low        Close  \\\n",
       "0    15-02-2022  1476.000000  1524.900024  1473.050049  1517.800049   \n",
       "1    16-02-2022  1534.349976  1534.750000  1507.000000  1515.750000   \n",
       "2    17-02-2022  1513.099976  1522.000000  1502.000000  1506.500000   \n",
       "3    18-02-2022  1498.300049  1517.000000  1490.449951  1512.349976   \n",
       "4    21-02-2022  1504.000000  1530.699951  1495.550049  1522.099976   \n",
       "..          ...          ...          ...          ...          ...   \n",
       "245  09-02-2023  1660.000000  1661.650024  1635.550049  1650.550049   \n",
       "246  10-02-2023  1648.800049  1658.500000  1642.199951  1657.099976   \n",
       "247  13-02-2023  1655.000000  1661.750000  1644.550049  1658.349976   \n",
       "248  14-02-2023  1665.000000  1677.500000  1657.949951  1673.699951   \n",
       "249  15-02-2023  1678.000000  1678.000000  1657.650024  1670.300049   \n",
       "\n",
       "       Adj Close   Volume  \n",
       "0    1500.355347  6567533  \n",
       "1    1498.328857  5016132  \n",
       "2    1489.185181  3675604  \n",
       "3    1494.967896  3898064  \n",
       "4    1504.605835  3734033  \n",
       "..           ...      ...  \n",
       "245  1650.550049  5888668  \n",
       "246  1657.099976  4086058  \n",
       "247  1658.349976  2868472  \n",
       "248  1673.699951  5454296  \n",
       "249  1670.300049  5718988  \n",
       "\n",
       "[250 rows x 7 columns]"
      ]
     },
     "execution_count": 12,
     "metadata": {},
     "output_type": "execute_result"
    }
   ],
   "source": [
    "# Read hdfc stock data from HDB.csv\n",
    "read_stock_price=pd.read_csv('HDFCBANK.csv')\n",
    "\n",
    "read_stock_price[\"Date\"] = pd.to_datetime(read_stock_price[\"Date\"]).dt.strftime('%d-%m-%Y')\n",
    "\n",
    "# print Stock Data \n",
    "read_stock_price"
   ]
  },
  {
   "cell_type": "markdown",
   "id": "c0f43aa4",
   "metadata": {},
   "source": [
    "#### Adding a \"Price\" column in our dataframe and fetching the stock price as per the date in our dataframe.\n"
   ]
  },
  {
   "cell_type": "code",
   "execution_count": 13,
   "id": "4740509f",
   "metadata": {},
   "outputs": [],
   "source": [
    "# Add Prices column to the combine_clean_data dataframe \n",
    "combine_clean_data['Prices']=\"\""
   ]
  },
  {
   "cell_type": "code",
   "execution_count": 14,
   "id": "49d5851e",
   "metadata": {},
   "outputs": [],
   "source": [
    "indx=0\n",
    "for i in range (0,len(combine_clean_data)):\n",
    "    for j in range (0,len(read_stock_price)):\n",
    "        get_tweet_date = combine_clean_data.Date.iloc[i]\n",
    "        get_stock_date = read_stock_price.Date.iloc[j]\n",
    "        if(str(get_stock_date) == str(get_tweet_date)):\n",
    "            combine_clean_data['Prices'].iloc[i] = int(read_stock_price.Close[j])"
   ]
  },
  {
   "cell_type": "code",
   "execution_count": 15,
   "id": "d9cf7e50",
   "metadata": {
    "scrolled": false
   },
   "outputs": [
    {
     "data": {
      "text/html": [
       "<div>\n",
       "<style scoped>\n",
       "    .dataframe tbody tr th:only-of-type {\n",
       "        vertical-align: middle;\n",
       "    }\n",
       "\n",
       "    .dataframe tbody tr th {\n",
       "        vertical-align: top;\n",
       "    }\n",
       "\n",
       "    .dataframe thead th {\n",
       "        text-align: right;\n",
       "    }\n",
       "</style>\n",
       "<table border=\"1\" class=\"dataframe\">\n",
       "  <thead>\n",
       "    <tr style=\"text-align: right;\">\n",
       "      <th></th>\n",
       "      <th>Date</th>\n",
       "      <th>Tweets</th>\n",
       "      <th>Prices</th>\n",
       "    </tr>\n",
       "  </thead>\n",
       "  <tbody>\n",
       "    <tr>\n",
       "      <th>0</th>\n",
       "      <td>10-12-2022</td>\n",
       "      <td>HDFC  HDFC Monthwise Daily High   Low Movemen...</td>\n",
       "      <td></td>\n",
       "    </tr>\n",
       "    <tr>\n",
       "      <th>1</th>\n",
       "      <td>09-12-2022</td>\n",
       "      <td>OptionChain    HDFC  Stock  Bearish  PCR  0 ...</td>\n",
       "      <td>1631</td>\n",
       "    </tr>\n",
       "    <tr>\n",
       "      <th>2</th>\n",
       "      <td>08-12-2022</td>\n",
       "      <td>From 10th January 2023 to 7th June 2023 pleas...</td>\n",
       "      <td>1619</td>\n",
       "    </tr>\n",
       "    <tr>\n",
       "      <th>3</th>\n",
       "      <td>07-12-2022</td>\n",
       "      <td>HDFC  HDFC chart suggests  Fibonacci based  ...</td>\n",
       "      <td>1610</td>\n",
       "    </tr>\n",
       "    <tr>\n",
       "      <th>4</th>\n",
       "      <td>06-12-2022</td>\n",
       "      <td>RedmiA1 at Rs 5669 only   Offer using  HDF...</td>\n",
       "      <td>1611</td>\n",
       "    </tr>\n",
       "    <tr>\n",
       "      <th>...</th>\n",
       "      <td>...</td>\n",
       "      <td>...</td>\n",
       "      <td>...</td>\n",
       "    </tr>\n",
       "    <tr>\n",
       "      <th>68</th>\n",
       "      <td>2023-02-19</td>\n",
       "      <td>Dear  HDFCBank Cares   I have your cc which h...</td>\n",
       "      <td></td>\n",
       "    </tr>\n",
       "    <tr>\n",
       "      <th>69</th>\n",
       "      <td>2023-02-18</td>\n",
       "      <td>HDFC  HDFC Monthwise Daily High   Low Moveme...</td>\n",
       "      <td></td>\n",
       "    </tr>\n",
       "    <tr>\n",
       "      <th>70</th>\n",
       "      <td>2023-02-17</td>\n",
       "      <td>OptionChain    HDFC  Stock  Bearish  PCR  0 ...</td>\n",
       "      <td></td>\n",
       "    </tr>\n",
       "    <tr>\n",
       "      <th>71</th>\n",
       "      <td>2023-02-16</td>\n",
       "      <td>OptionChain    HDFC  Stock  Bearish  PCR  0 ...</td>\n",
       "      <td></td>\n",
       "    </tr>\n",
       "    <tr>\n",
       "      <th>72</th>\n",
       "      <td>2023-02-15</td>\n",
       "      <td>RT  AutusInvestment   Positional 60M candle c...</td>\n",
       "      <td></td>\n",
       "    </tr>\n",
       "  </tbody>\n",
       "</table>\n",
       "<p>73 rows × 3 columns</p>\n",
       "</div>"
      ],
      "text/plain": [
       "          Date                                             Tweets Prices\n",
       "0   10-12-2022   HDFC  HDFC Monthwise Daily High   Low Movemen...       \n",
       "1   09-12-2022    OptionChain    HDFC  Stock  Bearish  PCR  0 ...   1631\n",
       "2   08-12-2022   From 10th January 2023 to 7th June 2023 pleas...   1619\n",
       "3   07-12-2022    HDFC  HDFC chart suggests  Fibonacci based  ...   1610\n",
       "4   06-12-2022      RedmiA1 at Rs 5669 only   Offer using  HDF...   1611\n",
       "..         ...                                                ...    ...\n",
       "68  2023-02-19   Dear  HDFCBank Cares   I have your cc which h...       \n",
       "69  2023-02-18    HDFC  HDFC Monthwise Daily High   Low Moveme...       \n",
       "70  2023-02-17    OptionChain    HDFC  Stock  Bearish  PCR  0 ...       \n",
       "71  2023-02-16    OptionChain    HDFC  Stock  Bearish  PCR  0 ...       \n",
       "72  2023-02-15   RT  AutusInvestment   Positional 60M candle c...       \n",
       "\n",
       "[73 rows x 3 columns]"
      ]
     },
     "execution_count": 15,
     "metadata": {},
     "output_type": "execute_result"
    }
   ],
   "source": [
    "# Print dataframe \n",
    "combine_clean_data"
   ]
  },
  {
   "cell_type": "markdown",
   "id": "283317a0",
   "metadata": {},
   "source": [
    "#### So we take the mean for the close price and put it in the blank value"
   ]
  },
  {
   "cell_type": "code",
   "execution_count": 16,
   "id": "27f8df81",
   "metadata": {},
   "outputs": [],
   "source": [
    "mean=0\n",
    "summ=0\n",
    "count=0\n",
    "\n",
    "for i in range(0,len(combine_clean_data)):\n",
    "    if(combine_clean_data.Prices.iloc[i]!=\"\"):\n",
    "        summ=summ+int(combine_clean_data.Prices.iloc[i])\n",
    "        count=count+1\n",
    "        \n",
    "mean=summ/count\n",
    "\n",
    "for i in range(0,len(combine_clean_data)):\n",
    "    if(combine_clean_data.Prices.iloc[i]==\"\"):\n",
    "        combine_clean_data.Prices.iloc[i]=int(mean)"
   ]
  },
  {
   "cell_type": "markdown",
   "id": "0357f396",
   "metadata": {},
   "source": [
    "#### Now all the entries have some value"
   ]
  },
  {
   "cell_type": "code",
   "execution_count": 17,
   "id": "3e95c426",
   "metadata": {},
   "outputs": [
    {
     "data": {
      "text/html": [
       "<div>\n",
       "<style scoped>\n",
       "    .dataframe tbody tr th:only-of-type {\n",
       "        vertical-align: middle;\n",
       "    }\n",
       "\n",
       "    .dataframe tbody tr th {\n",
       "        vertical-align: top;\n",
       "    }\n",
       "\n",
       "    .dataframe thead th {\n",
       "        text-align: right;\n",
       "    }\n",
       "</style>\n",
       "<table border=\"1\" class=\"dataframe\">\n",
       "  <thead>\n",
       "    <tr style=\"text-align: right;\">\n",
       "      <th></th>\n",
       "      <th>Date</th>\n",
       "      <th>Tweets</th>\n",
       "      <th>Prices</th>\n",
       "    </tr>\n",
       "  </thead>\n",
       "  <tbody>\n",
       "    <tr>\n",
       "      <th>0</th>\n",
       "      <td>10-12-2022</td>\n",
       "      <td>HDFC  HDFC Monthwise Daily High   Low Movemen...</td>\n",
       "      <td>1627</td>\n",
       "    </tr>\n",
       "    <tr>\n",
       "      <th>1</th>\n",
       "      <td>09-12-2022</td>\n",
       "      <td>OptionChain    HDFC  Stock  Bearish  PCR  0 ...</td>\n",
       "      <td>1631</td>\n",
       "    </tr>\n",
       "    <tr>\n",
       "      <th>2</th>\n",
       "      <td>08-12-2022</td>\n",
       "      <td>From 10th January 2023 to 7th June 2023 pleas...</td>\n",
       "      <td>1619</td>\n",
       "    </tr>\n",
       "    <tr>\n",
       "      <th>3</th>\n",
       "      <td>07-12-2022</td>\n",
       "      <td>HDFC  HDFC chart suggests  Fibonacci based  ...</td>\n",
       "      <td>1610</td>\n",
       "    </tr>\n",
       "    <tr>\n",
       "      <th>4</th>\n",
       "      <td>06-12-2022</td>\n",
       "      <td>RedmiA1 at Rs 5669 only   Offer using  HDF...</td>\n",
       "      <td>1611</td>\n",
       "    </tr>\n",
       "    <tr>\n",
       "      <th>...</th>\n",
       "      <td>...</td>\n",
       "      <td>...</td>\n",
       "      <td>...</td>\n",
       "    </tr>\n",
       "    <tr>\n",
       "      <th>68</th>\n",
       "      <td>2023-02-19</td>\n",
       "      <td>Dear  HDFCBank Cares   I have your cc which h...</td>\n",
       "      <td>1627</td>\n",
       "    </tr>\n",
       "    <tr>\n",
       "      <th>69</th>\n",
       "      <td>2023-02-18</td>\n",
       "      <td>HDFC  HDFC Monthwise Daily High   Low Moveme...</td>\n",
       "      <td>1627</td>\n",
       "    </tr>\n",
       "    <tr>\n",
       "      <th>70</th>\n",
       "      <td>2023-02-17</td>\n",
       "      <td>OptionChain    HDFC  Stock  Bearish  PCR  0 ...</td>\n",
       "      <td>1627</td>\n",
       "    </tr>\n",
       "    <tr>\n",
       "      <th>71</th>\n",
       "      <td>2023-02-16</td>\n",
       "      <td>OptionChain    HDFC  Stock  Bearish  PCR  0 ...</td>\n",
       "      <td>1627</td>\n",
       "    </tr>\n",
       "    <tr>\n",
       "      <th>72</th>\n",
       "      <td>2023-02-15</td>\n",
       "      <td>RT  AutusInvestment   Positional 60M candle c...</td>\n",
       "      <td>1627</td>\n",
       "    </tr>\n",
       "  </tbody>\n",
       "</table>\n",
       "<p>73 rows × 3 columns</p>\n",
       "</div>"
      ],
      "text/plain": [
       "          Date                                             Tweets Prices\n",
       "0   10-12-2022   HDFC  HDFC Monthwise Daily High   Low Movemen...   1627\n",
       "1   09-12-2022    OptionChain    HDFC  Stock  Bearish  PCR  0 ...   1631\n",
       "2   08-12-2022   From 10th January 2023 to 7th June 2023 pleas...   1619\n",
       "3   07-12-2022    HDFC  HDFC chart suggests  Fibonacci based  ...   1610\n",
       "4   06-12-2022      RedmiA1 at Rs 5669 only   Offer using  HDF...   1611\n",
       "..         ...                                                ...    ...\n",
       "68  2023-02-19   Dear  HDFCBank Cares   I have your cc which h...   1627\n",
       "69  2023-02-18    HDFC  HDFC Monthwise Daily High   Low Moveme...   1627\n",
       "70  2023-02-17    OptionChain    HDFC  Stock  Bearish  PCR  0 ...   1627\n",
       "71  2023-02-16    OptionChain    HDFC  Stock  Bearish  PCR  0 ...   1627\n",
       "72  2023-02-15   RT  AutusInvestment   Positional 60M candle c...   1627\n",
       "\n",
       "[73 rows x 3 columns]"
      ]
     },
     "execution_count": 17,
     "metadata": {},
     "output_type": "execute_result"
    }
   ],
   "source": [
    "# Print dataframe\n",
    "combine_clean_data"
   ]
  },
  {
   "cell_type": "markdown",
   "id": "d73e2f1c",
   "metadata": {},
   "source": [
    "#### Making \"prices\" column as integer so mathematical operations could be performed easily."
   ]
  },
  {
   "cell_type": "code",
   "execution_count": 18,
   "id": "305e51c5",
   "metadata": {},
   "outputs": [],
   "source": [
    "combine_clean_data['Prices'] = combine_clean_data['Prices'].apply(np.int64)"
   ]
  },
  {
   "cell_type": "markdown",
   "id": "1c763213",
   "metadata": {},
   "source": [
    "#### Adding 4 new columns in our dataframe so that sentiment analysis could be performed.. Comp is \"Compound\" it will tell whether the statement is overall negative or positive. If it has negative value then it is negative, if it has positive value then it is positive. If it has value 0, then it is neutral."
   ]
  },
  {
   "cell_type": "code",
   "execution_count": 19,
   "id": "c5e6999e",
   "metadata": {},
   "outputs": [
    {
     "data": {
      "text/html": [
       "<div>\n",
       "<style scoped>\n",
       "    .dataframe tbody tr th:only-of-type {\n",
       "        vertical-align: middle;\n",
       "    }\n",
       "\n",
       "    .dataframe tbody tr th {\n",
       "        vertical-align: top;\n",
       "    }\n",
       "\n",
       "    .dataframe thead th {\n",
       "        text-align: right;\n",
       "    }\n",
       "</style>\n",
       "<table border=\"1\" class=\"dataframe\">\n",
       "  <thead>\n",
       "    <tr style=\"text-align: right;\">\n",
       "      <th></th>\n",
       "      <th>Date</th>\n",
       "      <th>Tweets</th>\n",
       "      <th>Prices</th>\n",
       "      <th>Comp</th>\n",
       "      <th>Negative</th>\n",
       "      <th>Neutral</th>\n",
       "      <th>Positive</th>\n",
       "    </tr>\n",
       "  </thead>\n",
       "  <tbody>\n",
       "    <tr>\n",
       "      <th>0</th>\n",
       "      <td>10-12-2022</td>\n",
       "      <td>HDFC  HDFC Monthwise Daily High   Low Movemen...</td>\n",
       "      <td>1627</td>\n",
       "      <td></td>\n",
       "      <td></td>\n",
       "      <td></td>\n",
       "      <td></td>\n",
       "    </tr>\n",
       "    <tr>\n",
       "      <th>1</th>\n",
       "      <td>09-12-2022</td>\n",
       "      <td>OptionChain    HDFC  Stock  Bearish  PCR  0 ...</td>\n",
       "      <td>1631</td>\n",
       "      <td></td>\n",
       "      <td></td>\n",
       "      <td></td>\n",
       "      <td></td>\n",
       "    </tr>\n",
       "    <tr>\n",
       "      <th>2</th>\n",
       "      <td>08-12-2022</td>\n",
       "      <td>From 10th January 2023 to 7th June 2023 pleas...</td>\n",
       "      <td>1619</td>\n",
       "      <td></td>\n",
       "      <td></td>\n",
       "      <td></td>\n",
       "      <td></td>\n",
       "    </tr>\n",
       "    <tr>\n",
       "      <th>3</th>\n",
       "      <td>07-12-2022</td>\n",
       "      <td>HDFC  HDFC chart suggests  Fibonacci based  ...</td>\n",
       "      <td>1610</td>\n",
       "      <td></td>\n",
       "      <td></td>\n",
       "      <td></td>\n",
       "      <td></td>\n",
       "    </tr>\n",
       "    <tr>\n",
       "      <th>4</th>\n",
       "      <td>06-12-2022</td>\n",
       "      <td>RedmiA1 at Rs 5669 only   Offer using  HDF...</td>\n",
       "      <td>1611</td>\n",
       "      <td></td>\n",
       "      <td></td>\n",
       "      <td></td>\n",
       "      <td></td>\n",
       "    </tr>\n",
       "    <tr>\n",
       "      <th>...</th>\n",
       "      <td>...</td>\n",
       "      <td>...</td>\n",
       "      <td>...</td>\n",
       "      <td>...</td>\n",
       "      <td>...</td>\n",
       "      <td>...</td>\n",
       "      <td>...</td>\n",
       "    </tr>\n",
       "    <tr>\n",
       "      <th>68</th>\n",
       "      <td>2023-02-19</td>\n",
       "      <td>Dear  HDFCBank Cares   I have your cc which h...</td>\n",
       "      <td>1627</td>\n",
       "      <td></td>\n",
       "      <td></td>\n",
       "      <td></td>\n",
       "      <td></td>\n",
       "    </tr>\n",
       "    <tr>\n",
       "      <th>69</th>\n",
       "      <td>2023-02-18</td>\n",
       "      <td>HDFC  HDFC Monthwise Daily High   Low Moveme...</td>\n",
       "      <td>1627</td>\n",
       "      <td></td>\n",
       "      <td></td>\n",
       "      <td></td>\n",
       "      <td></td>\n",
       "    </tr>\n",
       "    <tr>\n",
       "      <th>70</th>\n",
       "      <td>2023-02-17</td>\n",
       "      <td>OptionChain    HDFC  Stock  Bearish  PCR  0 ...</td>\n",
       "      <td>1627</td>\n",
       "      <td></td>\n",
       "      <td></td>\n",
       "      <td></td>\n",
       "      <td></td>\n",
       "    </tr>\n",
       "    <tr>\n",
       "      <th>71</th>\n",
       "      <td>2023-02-16</td>\n",
       "      <td>OptionChain    HDFC  Stock  Bearish  PCR  0 ...</td>\n",
       "      <td>1627</td>\n",
       "      <td></td>\n",
       "      <td></td>\n",
       "      <td></td>\n",
       "      <td></td>\n",
       "    </tr>\n",
       "    <tr>\n",
       "      <th>72</th>\n",
       "      <td>2023-02-15</td>\n",
       "      <td>RT  AutusInvestment   Positional 60M candle c...</td>\n",
       "      <td>1627</td>\n",
       "      <td></td>\n",
       "      <td></td>\n",
       "      <td></td>\n",
       "      <td></td>\n",
       "    </tr>\n",
       "  </tbody>\n",
       "</table>\n",
       "<p>73 rows × 7 columns</p>\n",
       "</div>"
      ],
      "text/plain": [
       "          Date                                             Tweets  Prices  \\\n",
       "0   10-12-2022   HDFC  HDFC Monthwise Daily High   Low Movemen...    1627   \n",
       "1   09-12-2022    OptionChain    HDFC  Stock  Bearish  PCR  0 ...    1631   \n",
       "2   08-12-2022   From 10th January 2023 to 7th June 2023 pleas...    1619   \n",
       "3   07-12-2022    HDFC  HDFC chart suggests  Fibonacci based  ...    1610   \n",
       "4   06-12-2022      RedmiA1 at Rs 5669 only   Offer using  HDF...    1611   \n",
       "..         ...                                                ...     ...   \n",
       "68  2023-02-19   Dear  HDFCBank Cares   I have your cc which h...    1627   \n",
       "69  2023-02-18    HDFC  HDFC Monthwise Daily High   Low Moveme...    1627   \n",
       "70  2023-02-17    OptionChain    HDFC  Stock  Bearish  PCR  0 ...    1627   \n",
       "71  2023-02-16    OptionChain    HDFC  Stock  Bearish  PCR  0 ...    1627   \n",
       "72  2023-02-15   RT  AutusInvestment   Positional 60M candle c...    1627   \n",
       "\n",
       "   Comp Negative Neutral Positive  \n",
       "0                                  \n",
       "1                                  \n",
       "2                                  \n",
       "3                                  \n",
       "4                                  \n",
       "..  ...      ...     ...      ...  \n",
       "68                                 \n",
       "69                                 \n",
       "70                                 \n",
       "71                                 \n",
       "72                                 \n",
       "\n",
       "[73 rows x 7 columns]"
      ]
     },
     "execution_count": 19,
     "metadata": {},
     "output_type": "execute_result"
    }
   ],
   "source": [
    "# Add 4 new columns in combine_clean_data dataframe\n",
    "combine_clean_data[\"Comp\"] = ''\n",
    "combine_clean_data[\"Negative\"] = ''\n",
    "combine_clean_data[\"Neutral\"] = ''\n",
    "combine_clean_data[\"Positive\"] = ''\n",
    "\n",
    "# print ccdata dataframe \n",
    "combine_clean_data"
   ]
  },
  {
   "cell_type": "markdown",
   "id": "838373de",
   "metadata": {},
   "source": [
    "#### Downloading this package was essential to perform sentiment analysis."
   ]
  },
  {
   "cell_type": "code",
   "execution_count": 20,
   "id": "aa4de6b6",
   "metadata": {},
   "outputs": [
    {
     "name": "stderr",
     "output_type": "stream",
     "text": [
      "[nltk_data] Downloading package vader_lexicon to\n",
      "[nltk_data]     C:\\Users\\LENOVO\\AppData\\Roaming\\nltk_data...\n",
      "[nltk_data]   Package vader_lexicon is already up-to-date!\n"
     ]
    },
    {
     "data": {
      "text/plain": [
       "True"
      ]
     },
     "execution_count": 20,
     "metadata": {},
     "output_type": "execute_result"
    }
   ],
   "source": [
    "import nltk\n",
    "nltk.download('vader_lexicon')"
   ]
  },
  {
   "cell_type": "markdown",
   "id": "24053d58",
   "metadata": {},
   "source": [
    "#### This part of the code is responsible for assigning the polarity for each statement. That is how much positive, negative, neutral you statement is. And also assign the compound value that is overall sentiment of the statement."
   ]
  },
  {
   "cell_type": "code",
   "execution_count": 21,
   "id": "d8969547",
   "metadata": {},
   "outputs": [
    {
     "name": "stderr",
     "output_type": "stream",
     "text": [
      "C:\\Users\\LENOVO\\AppData\\Local\\Temp\\ipykernel_11760\\1020392755.py:7: SettingWithCopyWarning: \n",
      "A value is trying to be set on a copy of a slice from a DataFrame\n",
      "\n",
      "See the caveats in the documentation: https://pandas.pydata.org/pandas-docs/stable/user_guide/indexing.html#returning-a-view-versus-a-copy\n",
      "  combine_clean_data['Comp'].iloc[indexx] = sentence_sentiment['compound']\n",
      "C:\\Users\\LENOVO\\AppData\\Local\\Temp\\ipykernel_11760\\1020392755.py:8: SettingWithCopyWarning: \n",
      "A value is trying to be set on a copy of a slice from a DataFrame\n",
      "\n",
      "See the caveats in the documentation: https://pandas.pydata.org/pandas-docs/stable/user_guide/indexing.html#returning-a-view-versus-a-copy\n",
      "  combine_clean_data['Negative'].iloc[indexx] = sentence_sentiment['neg']\n",
      "C:\\Users\\LENOVO\\AppData\\Local\\Temp\\ipykernel_11760\\1020392755.py:9: SettingWithCopyWarning: \n",
      "A value is trying to be set on a copy of a slice from a DataFrame\n",
      "\n",
      "See the caveats in the documentation: https://pandas.pydata.org/pandas-docs/stable/user_guide/indexing.html#returning-a-view-versus-a-copy\n",
      "  combine_clean_data['Neutral'].iloc[indexx] = sentence_sentiment['neu']\n",
      "C:\\Users\\LENOVO\\AppData\\Local\\Temp\\ipykernel_11760\\1020392755.py:10: SettingWithCopyWarning: \n",
      "A value is trying to be set on a copy of a slice from a DataFrame\n",
      "\n",
      "See the caveats in the documentation: https://pandas.pydata.org/pandas-docs/stable/user_guide/indexing.html#returning-a-view-versus-a-copy\n",
      "  combine_clean_data['Positive'].iloc[indexx] = sentence_sentiment['compound']\n"
     ]
    }
   ],
   "source": [
    "from nltk.sentiment.vader import SentimentIntensityAnalyzer\n",
    "import unicodedata\n",
    "sentiment_i_a = SentimentIntensityAnalyzer()\n",
    "for indexx, row in combine_clean_data.T.iteritems():\n",
    "        sentence_i = unicodedata.normalize('NFKD', combine_clean_data.loc[indexx, 'Tweets'])\n",
    "        sentence_sentiment = sentiment_i_a.polarity_scores(sentence_i)\n",
    "        combine_clean_data['Comp'].iloc[indexx] = sentence_sentiment['compound']\n",
    "        combine_clean_data['Negative'].iloc[indexx] = sentence_sentiment['neg']\n",
    "        combine_clean_data['Neutral'].iloc[indexx] = sentence_sentiment['neu']\n",
    "        combine_clean_data['Positive'].iloc[indexx] = sentence_sentiment['compound']\n",
    "\n",
    "        "
   ]
  },
  {
   "cell_type": "code",
   "execution_count": 22,
   "id": "f0262b0f",
   "metadata": {},
   "outputs": [
    {
     "data": {
      "text/html": [
       "<div>\n",
       "<style scoped>\n",
       "    .dataframe tbody tr th:only-of-type {\n",
       "        vertical-align: middle;\n",
       "    }\n",
       "\n",
       "    .dataframe tbody tr th {\n",
       "        vertical-align: top;\n",
       "    }\n",
       "\n",
       "    .dataframe thead th {\n",
       "        text-align: right;\n",
       "    }\n",
       "</style>\n",
       "<table border=\"1\" class=\"dataframe\">\n",
       "  <thead>\n",
       "    <tr style=\"text-align: right;\">\n",
       "      <th></th>\n",
       "      <th>Date</th>\n",
       "      <th>Tweets</th>\n",
       "      <th>Prices</th>\n",
       "      <th>Comp</th>\n",
       "      <th>Negative</th>\n",
       "      <th>Neutral</th>\n",
       "      <th>Positive</th>\n",
       "    </tr>\n",
       "  </thead>\n",
       "  <tbody>\n",
       "    <tr>\n",
       "      <th>0</th>\n",
       "      <td>10-12-2022</td>\n",
       "      <td>HDFC  HDFC Monthwise Daily High   Low Movemen...</td>\n",
       "      <td>1627</td>\n",
       "      <td>0.9701</td>\n",
       "      <td>0.046</td>\n",
       "      <td>0.87</td>\n",
       "      <td>0.9701</td>\n",
       "    </tr>\n",
       "    <tr>\n",
       "      <th>1</th>\n",
       "      <td>09-12-2022</td>\n",
       "      <td>OptionChain    HDFC  Stock  Bearish  PCR  0 ...</td>\n",
       "      <td>1631</td>\n",
       "      <td>0.9967</td>\n",
       "      <td>0.058</td>\n",
       "      <td>0.842</td>\n",
       "      <td>0.9967</td>\n",
       "    </tr>\n",
       "    <tr>\n",
       "      <th>2</th>\n",
       "      <td>08-12-2022</td>\n",
       "      <td>From 10th January 2023 to 7th June 2023 pleas...</td>\n",
       "      <td>1619</td>\n",
       "      <td>0.9981</td>\n",
       "      <td>0.061</td>\n",
       "      <td>0.832</td>\n",
       "      <td>0.9981</td>\n",
       "    </tr>\n",
       "    <tr>\n",
       "      <th>3</th>\n",
       "      <td>07-12-2022</td>\n",
       "      <td>HDFC  HDFC chart suggests  Fibonacci based  ...</td>\n",
       "      <td>1610</td>\n",
       "      <td>0.9987</td>\n",
       "      <td>0.064</td>\n",
       "      <td>0.834</td>\n",
       "      <td>0.9987</td>\n",
       "    </tr>\n",
       "    <tr>\n",
       "      <th>4</th>\n",
       "      <td>06-12-2022</td>\n",
       "      <td>RedmiA1 at Rs 5669 only   Offer using  HDF...</td>\n",
       "      <td>1611</td>\n",
       "      <td>0.9994</td>\n",
       "      <td>0.062</td>\n",
       "      <td>0.822</td>\n",
       "      <td>0.9994</td>\n",
       "    </tr>\n",
       "    <tr>\n",
       "      <th>...</th>\n",
       "      <td>...</td>\n",
       "      <td>...</td>\n",
       "      <td>...</td>\n",
       "      <td>...</td>\n",
       "      <td>...</td>\n",
       "      <td>...</td>\n",
       "      <td>...</td>\n",
       "    </tr>\n",
       "    <tr>\n",
       "      <th>68</th>\n",
       "      <td>2023-02-19</td>\n",
       "      <td>Dear  HDFCBank Cares   I have your cc which h...</td>\n",
       "      <td>1627</td>\n",
       "      <td>0.9985</td>\n",
       "      <td>0.056</td>\n",
       "      <td>0.841</td>\n",
       "      <td>0.9985</td>\n",
       "    </tr>\n",
       "    <tr>\n",
       "      <th>69</th>\n",
       "      <td>2023-02-18</td>\n",
       "      <td>HDFC  HDFC Monthwise Daily High   Low Moveme...</td>\n",
       "      <td>1627</td>\n",
       "      <td>0.9991</td>\n",
       "      <td>0.025</td>\n",
       "      <td>0.894</td>\n",
       "      <td>0.9991</td>\n",
       "    </tr>\n",
       "    <tr>\n",
       "      <th>70</th>\n",
       "      <td>2023-02-17</td>\n",
       "      <td>OptionChain    HDFC  Stock  Bearish  PCR  0 ...</td>\n",
       "      <td>1627</td>\n",
       "      <td>0.9994</td>\n",
       "      <td>0.054</td>\n",
       "      <td>0.847</td>\n",
       "      <td>0.9994</td>\n",
       "    </tr>\n",
       "    <tr>\n",
       "      <th>71</th>\n",
       "      <td>2023-02-16</td>\n",
       "      <td>OptionChain    HDFC  Stock  Bearish  PCR  0 ...</td>\n",
       "      <td>1627</td>\n",
       "      <td>0.9996</td>\n",
       "      <td>0.055</td>\n",
       "      <td>0.833</td>\n",
       "      <td>0.9996</td>\n",
       "    </tr>\n",
       "    <tr>\n",
       "      <th>72</th>\n",
       "      <td>2023-02-15</td>\n",
       "      <td>RT  AutusInvestment   Positional 60M candle c...</td>\n",
       "      <td>1627</td>\n",
       "      <td>0.999</td>\n",
       "      <td>0.061</td>\n",
       "      <td>0.829</td>\n",
       "      <td>0.999</td>\n",
       "    </tr>\n",
       "  </tbody>\n",
       "</table>\n",
       "<p>73 rows × 7 columns</p>\n",
       "</div>"
      ],
      "text/plain": [
       "          Date                                             Tweets  Prices  \\\n",
       "0   10-12-2022   HDFC  HDFC Monthwise Daily High   Low Movemen...    1627   \n",
       "1   09-12-2022    OptionChain    HDFC  Stock  Bearish  PCR  0 ...    1631   \n",
       "2   08-12-2022   From 10th January 2023 to 7th June 2023 pleas...    1619   \n",
       "3   07-12-2022    HDFC  HDFC chart suggests  Fibonacci based  ...    1610   \n",
       "4   06-12-2022      RedmiA1 at Rs 5669 only   Offer using  HDF...    1611   \n",
       "..         ...                                                ...     ...   \n",
       "68  2023-02-19   Dear  HDFCBank Cares   I have your cc which h...    1627   \n",
       "69  2023-02-18    HDFC  HDFC Monthwise Daily High   Low Moveme...    1627   \n",
       "70  2023-02-17    OptionChain    HDFC  Stock  Bearish  PCR  0 ...    1627   \n",
       "71  2023-02-16    OptionChain    HDFC  Stock  Bearish  PCR  0 ...    1627   \n",
       "72  2023-02-15   RT  AutusInvestment   Positional 60M candle c...    1627   \n",
       "\n",
       "      Comp Negative Neutral Positive  \n",
       "0   0.9701    0.046    0.87   0.9701  \n",
       "1   0.9967    0.058   0.842   0.9967  \n",
       "2   0.9981    0.061   0.832   0.9981  \n",
       "3   0.9987    0.064   0.834   0.9987  \n",
       "4   0.9994    0.062   0.822   0.9994  \n",
       "..     ...      ...     ...      ...  \n",
       "68  0.9985    0.056   0.841   0.9985  \n",
       "69  0.9991    0.025   0.894   0.9991  \n",
       "70  0.9994    0.054   0.847   0.9994  \n",
       "71  0.9996    0.055   0.833   0.9996  \n",
       "72   0.999    0.061   0.829    0.999  \n",
       "\n",
       "[73 rows x 7 columns]"
      ]
     },
     "execution_count": 22,
     "metadata": {},
     "output_type": "execute_result"
    }
   ],
   "source": [
    "combine_clean_data"
   ]
  },
  {
   "cell_type": "markdown",
   "id": "44d87d92",
   "metadata": {},
   "source": [
    "#### Calculating the percentage of postive and negative tweets, and plotting the PIE chart for the same"
   ]
  },
  {
   "cell_type": "code",
   "execution_count": 23,
   "id": "9db7d0a3",
   "metadata": {},
   "outputs": [
    {
     "name": "stdout",
     "output_type": "stream",
     "text": [
      "% of positive tweets=  95.8904109589041\n",
      "% of negative tweets=  4.10958904109589\n",
      "% of neutral tweets =  0.0\n"
     ]
    },
    {
     "data": {
      "text/plain": [
       "[]"
      ]
     },
     "execution_count": 23,
     "metadata": {},
     "output_type": "execute_result"
    },
    {
     "data": {
      "image/png": "[encoded data removed]",
      "text/plain": [
       "<Figure size 640x480 with 1 Axes>"
      ]
     },
     "metadata": {},
     "output_type": "display_data"
    }
   ],
   "source": [
    "posi=0\n",
    "nega=0\n",
    "neu=0\n",
    "for i in range (0,len(combine_clean_data)):\n",
    "    get_val=combine_clean_data.Comp[i]\n",
    "    if(float(get_val)<(0)):\n",
    "        nega=nega+1\n",
    "    if(float(get_val>(0))):\n",
    "        posi=posi+1\n",
    "    if(float(get_val) == 0):\n",
    "        neu = neu + 1\n",
    "    \n",
    "posper=(posi/(len(combine_clean_data)))*100\n",
    "negper=(nega/(len(combine_clean_data)))*100\n",
    "neuper = (neu/(len(combine_clean_data)))*100\n",
    "\n",
    "print(\"% of positive tweets= \",posper)\n",
    "print(\"% of negative tweets= \",negper)\n",
    "print(\"% of neutral tweets = \",neuper)\n",
    "\n",
    "arr=np.asarray([posper,negper, neuper], dtype=int)\n",
    "mlpt.pie(arr,labels=['positive','negative', 'nuetral'])\n",
    "mlpt.plot()"
   ]
  },
  {
   "cell_type": "markdown",
   "id": "5d67710f",
   "metadata": {},
   "source": [
    "#### Making a new dataframe with necessary columns for providing machine learning.\n"
   ]
  },
  {
   "cell_type": "code",
   "execution_count": 24,
   "id": "66ba5fe6",
   "metadata": {},
   "outputs": [],
   "source": [
    "dataframe = combine_clean_data[['Date','Prices','Comp','Negative','Neutral','Positive']].copy()"
   ]
  },
  {
   "cell_type": "markdown",
   "id": "0d27487e",
   "metadata": {},
   "source": [
    "# Appying Machine Learning Algorithms"
   ]
  },
  {
   "cell_type": "markdown",
   "id": "a5dd8cf3",
   "metadata": {},
   "source": [
    "## Random Forest Regression "
   ]
  },
  {
   "cell_type": "markdown",
   "id": "98bfd6b4",
   "metadata": {},
   "source": [
    "### Diving the dataset "
   ]
  },
  {
   "cell_type": "code",
   "execution_count": 25,
   "id": "fc7847a0",
   "metadata": {},
   "outputs": [],
   "source": [
    "# train_start_date = '01-12-2022'\n",
    "# train_end_date = '19-01-2023'\n",
    "# test_start_date = '20-01-2023'\n",
    "# test_end_date = '09-02-2023'\n",
    "# train = dataframe.loc[train_start_date : train_end_date,:]\n",
    "# test = dataframe.loc[test_start_date:test_end_date,:]\n",
    "\n",
    "train_start_date = '0'\n",
    "train_end_date = '44'\n",
    "test_start_date = '45'\n",
    "test_end_date = '65'\n",
    "train = dataframe.loc[train_start_date : train_end_date,:]\n",
    "test = dataframe.loc[test_start_date:test_end_date,:]"
   ]
  },
  {
   "cell_type": "code",
   "execution_count": 26,
   "id": "99174546",
   "metadata": {},
   "outputs": [],
   "source": [
    "sentiment_score_list = []\n",
    "for date, row in train.T.iteritems():\n",
    "    sentiment_score = np.asarray([dataframe.loc[date, 'Negative'],dataframe.loc[date, 'Positive']])\n",
    "    sentiment_score_list.append(sentiment_score)\n",
    "numpy_df_train = np.asarray(sentiment_score_list)"
   ]
  },
  {
   "cell_type": "code",
   "execution_count": 27,
   "id": "9faeaae2",
   "metadata": {},
   "outputs": [],
   "source": [
    "sentiment_score_list = []\n",
    "for date, row in test.T.iteritems():\n",
    "    sentiment_score = np.asarray([dataframe.loc[date, 'Negative'],dataframe.loc[date, 'Positive']])\n",
    "    sentiment_score_list.append(sentiment_score)\n",
    "numpy_df_test = np.asarray(sentiment_score_list)"
   ]
  },
  {
   "cell_type": "markdown",
   "id": "2f66788f",
   "metadata": {},
   "source": [
    "### Making 2 dataframe for Training and Testing \"Prices\". You can also make 1-D array for the same."
   ]
  },
  {
   "cell_type": "code",
   "execution_count": 28,
   "id": "063dfd36",
   "metadata": {},
   "outputs": [],
   "source": [
    "y_train = pd.DataFrame(train['Prices'])\n",
    "y_test = pd.DataFrame(test['Prices'])"
   ]
  },
  {
   "cell_type": "markdown",
   "id": "6d2ca2a8",
   "metadata": {},
   "source": [
    "### Fitting the sentiments(this acts as in independent value) and prices(this acts as a dependent value (like class-lables in iris dataset))"
   ]
  },
  {
   "cell_type": "code",
   "execution_count": 29,
   "id": "1aa0a764",
   "metadata": {},
   "outputs": [],
   "source": [
    "from sklearn.metrics import precision_score\n",
    "from sklearn.metrics import precision_recall_curve\n",
    "from sklearn.metrics import accuracy_score"
   ]
  },
  {
   "cell_type": "code",
   "execution_count": 31,
   "id": "cdf5df9c",
   "metadata": {
    "scrolled": false
   },
   "outputs": [
    {
     "name": "stdout",
     "output_type": "stream",
     "text": [
      "0.8187461643502063\n"
     ]
    },
    {
     "name": "stderr",
     "output_type": "stream",
     "text": [
      "C:\\Users\\LENOVO\\AppData\\Local\\Temp\\ipykernel_11760\\1343769374.py:21: SettingWithCopyWarning: \n",
      "A value is trying to be set on a copy of a slice from a DataFrame.\n",
      "Try using .loc[row_indexer,col_indexer] = value instead\n",
      "\n",
      "See the caveats in the documentation: https://pandas.pydata.org/pandas-docs/stable/user_guide/indexing.html#returning-a-view-versus-a-copy\n",
      "  test['Prices']=test['Prices'].apply(np.int64)\n"
     ]
    },
    {
     "data": {
      "image/png": "[encoded data removed]",
      "text/plain": [
       "<Figure size 640x480 with 1 Axes>"
      ]
     },
     "metadata": {},
     "output_type": "display_data"
    }
   ],
   "source": [
    "# from treeinterpreter import treeinterpreter as ti\n",
    "from sklearn.tree import DecisionTreeRegressor\n",
    "from sklearn.ensemble import RandomForestRegressor\n",
    "from sklearn.metrics import classification_report,confusion_matrix\n",
    "\n",
    "\n",
    "rf = RandomForestRegressor()\n",
    "rf.fit(numpy_df_train, train['Prices'])\n",
    "prediction=rf.predict(numpy_df_test)\n",
    "\n",
    "import matplotlib.pyplot as plt\n",
    "%matplotlib inline\n",
    "# idx = pd.date_range(test_start_date, test_end_date)\n",
    "idx=np.arange(int(test_start_date),int(test_end_date)+1)\n",
    "predictions_df = pd.DataFrame(data=prediction[0:], index = idx, columns=['Prices'])\n",
    "predictions_df['Prices'] = predictions_df['Prices'].apply(np.int64)\n",
    "# predictions_df['Prices'] = predictions_df['Prices']\n",
    "predictions_df['actual_value'] = test['Prices']\n",
    "predictions_df.columns = ['predicted_price', 'actual_price']\n",
    "predictions_df.plot()\n",
    "predictions_df['predicted_price'] = predictions_df['predicted_price'].apply(np.int64)\n",
    "test['Prices']=test['Prices'].apply(np.int64)\n",
    "print(rf.score(numpy_df_train, train['Prices']))\n"
   ]
  },
  {
   "cell_type": "markdown",
   "id": "4200321d",
   "metadata": {},
   "source": [
    "## Apply SVM( Support Vector Machine)"
   ]
  },
  {
   "cell_type": "code",
   "execution_count": 42,
   "id": "3810d13a",
   "metadata": {},
   "outputs": [],
   "source": [
    "from sklearn.model_selection import train_test_split\n",
    "from sklearn.preprocessing import StandardScaler\n",
    "from sklearn.svm import SVC\n",
    "from sklearn.metrics import accuracy_score\n",
    "from sklearn.model_selection import GridSearchCV"
   ]
  },
  {
   "cell_type": "code",
   "execution_count": 43,
   "id": "299378e1",
   "metadata": {
    "scrolled": true
   },
   "outputs": [
    {
     "name": "stdout",
     "output_type": "stream",
     "text": [
      "          Date                                             Tweets  Prices  \\\n",
      "0   10-12-2022   HDFC  HDFC Monthwise Daily High   Low Movemen...    1627   \n",
      "1   09-12-2022    OptionChain    HDFC  Stock  Bearish  PCR  0 ...    1631   \n",
      "2   08-12-2022   From 10th January 2023 to 7th June 2023 pleas...    1619   \n",
      "3   07-12-2022    HDFC  HDFC chart suggests  Fibonacci based  ...    1610   \n",
      "4   06-12-2022      RedmiA1 at Rs 5669 only   Offer using  HDF...    1611   \n",
      "..         ...                                                ...     ...   \n",
      "68  2023-02-19   Dear  HDFCBank Cares   I have your cc which h...    1627   \n",
      "69  2023-02-18    HDFC  HDFC Monthwise Daily High   Low Moveme...    1627   \n",
      "70  2023-02-17    OptionChain    HDFC  Stock  Bearish  PCR  0 ...    1627   \n",
      "71  2023-02-16    OptionChain    HDFC  Stock  Bearish  PCR  0 ...    1627   \n",
      "72  2023-02-15   RT  AutusInvestment   Positional 60M candle c...    1627   \n",
      "\n",
      "      Comp Negative Neutral Positive  \n",
      "0   0.9701    0.046    0.87   0.9701  \n",
      "1   0.9967    0.058   0.842   0.9967  \n",
      "2   0.9981    0.061   0.832   0.9981  \n",
      "3   0.9987    0.064   0.834   0.9987  \n",
      "4   0.9994    0.062   0.822   0.9994  \n",
      "..     ...      ...     ...      ...  \n",
      "68  0.9985    0.056   0.841   0.9985  \n",
      "69  0.9991    0.025   0.894   0.9991  \n",
      "70  0.9994    0.054   0.847   0.9994  \n",
      "71  0.9996    0.055   0.833   0.9996  \n",
      "72   0.999    0.061   0.829    0.999  \n",
      "\n",
      "[73 rows x 7 columns]\n",
      "            Prices    Comp Negative Neutral Positive\n",
      "Date                                                \n",
      "2022-10-12    1627  0.9701    0.046    0.87   0.9701\n",
      "2022-09-12    1631  0.9967    0.058   0.842   0.9967\n",
      "2022-08-12    1619  0.9981    0.061   0.832   0.9981\n",
      "2022-07-12    1610  0.9987    0.064   0.834   0.9987\n",
      "2022-06-12    1611  0.9994    0.062   0.822   0.9994\n",
      "...            ...     ...      ...     ...      ...\n",
      "2023-02-19    1627  0.9985    0.056   0.841   0.9985\n",
      "2023-02-18    1627  0.9991    0.025   0.894   0.9991\n",
      "2023-02-17    1627  0.9994    0.054   0.847   0.9994\n",
      "2023-02-16    1627  0.9996    0.055   0.833   0.9996\n",
      "2023-02-15    1627   0.999    0.061   0.829    0.999\n",
      "\n",
      "[73 rows x 5 columns]\n"
     ]
    },
    {
     "name": "stderr",
     "output_type": "stream",
     "text": [
      "C:\\Users\\LENOVO\\AppData\\Local\\Temp\\ipykernel_11760\\4034486623.py:6: UserWarning: Parsing '20-12-2022' in DD/MM/YYYY format. Provide format or specify infer_datetime_format=True for consistent parsing.\n",
      "  Data_Frame_For_SVM['Date'] = pd.to_datetime(Data_Frame_For_SVM['Date'])\n",
      "C:\\Users\\LENOVO\\AppData\\Local\\Temp\\ipykernel_11760\\4034486623.py:6: UserWarning: Parsing '19-12-2022' in DD/MM/YYYY format. Provide format or specify infer_datetime_format=True for consistent parsing.\n",
      "  Data_Frame_For_SVM['Date'] = pd.to_datetime(Data_Frame_For_SVM['Date'])\n",
      "C:\\Users\\LENOVO\\AppData\\Local\\Temp\\ipykernel_11760\\4034486623.py:6: UserWarning: Parsing '18-12-2022' in DD/MM/YYYY format. Provide format or specify infer_datetime_format=True for consistent parsing.\n",
      "  Data_Frame_For_SVM['Date'] = pd.to_datetime(Data_Frame_For_SVM['Date'])\n",
      "C:\\Users\\LENOVO\\AppData\\Local\\Temp\\ipykernel_11760\\4034486623.py:6: UserWarning: Parsing '17-12-2022' in DD/MM/YYYY format. Provide format or specify infer_datetime_format=True for consistent parsing.\n",
      "  Data_Frame_For_SVM['Date'] = pd.to_datetime(Data_Frame_For_SVM['Date'])\n",
      "C:\\Users\\LENOVO\\AppData\\Local\\Temp\\ipykernel_11760\\4034486623.py:6: UserWarning: Parsing '16-12-2022' in DD/MM/YYYY format. Provide format or specify infer_datetime_format=True for consistent parsing.\n",
      "  Data_Frame_For_SVM['Date'] = pd.to_datetime(Data_Frame_For_SVM['Date'])\n",
      "C:\\Users\\LENOVO\\AppData\\Local\\Temp\\ipykernel_11760\\4034486623.py:6: UserWarning: Parsing '15-12-2022' in DD/MM/YYYY format. Provide format or specify infer_datetime_format=True for consistent parsing.\n",
      "  Data_Frame_For_SVM['Date'] = pd.to_datetime(Data_Frame_For_SVM['Date'])\n",
      "C:\\Users\\LENOVO\\AppData\\Local\\Temp\\ipykernel_11760\\4034486623.py:6: UserWarning: Parsing '14-12-2022' in DD/MM/YYYY format. Provide format or specify infer_datetime_format=True for consistent parsing.\n",
      "  Data_Frame_For_SVM['Date'] = pd.to_datetime(Data_Frame_For_SVM['Date'])\n",
      "C:\\Users\\LENOVO\\AppData\\Local\\Temp\\ipykernel_11760\\4034486623.py:6: UserWarning: Parsing '13-12-2022' in DD/MM/YYYY format. Provide format or specify infer_datetime_format=True for consistent parsing.\n",
      "  Data_Frame_For_SVM['Date'] = pd.to_datetime(Data_Frame_For_SVM['Date'])\n",
      "C:\\Users\\LENOVO\\AppData\\Local\\Temp\\ipykernel_11760\\4034486623.py:6: UserWarning: Parsing '31-12-2022' in DD/MM/YYYY format. Provide format or specify infer_datetime_format=True for consistent parsing.\n",
      "  Data_Frame_For_SVM['Date'] = pd.to_datetime(Data_Frame_For_SVM['Date'])\n",
      "C:\\Users\\LENOVO\\AppData\\Local\\Temp\\ipykernel_11760\\4034486623.py:6: UserWarning: Parsing '30-12-2022' in DD/MM/YYYY format. Provide format or specify infer_datetime_format=True for consistent parsing.\n",
      "  Data_Frame_For_SVM['Date'] = pd.to_datetime(Data_Frame_For_SVM['Date'])\n",
      "C:\\Users\\LENOVO\\AppData\\Local\\Temp\\ipykernel_11760\\4034486623.py:6: UserWarning: Parsing '29-12-2022' in DD/MM/YYYY format. Provide format or specify infer_datetime_format=True for consistent parsing.\n",
      "  Data_Frame_For_SVM['Date'] = pd.to_datetime(Data_Frame_For_SVM['Date'])\n",
      "C:\\Users\\LENOVO\\AppData\\Local\\Temp\\ipykernel_11760\\4034486623.py:6: UserWarning: Parsing '28-12-2022' in DD/MM/YYYY format. Provide format or specify infer_datetime_format=True for consistent parsing.\n",
      "  Data_Frame_For_SVM['Date'] = pd.to_datetime(Data_Frame_For_SVM['Date'])\n",
      "C:\\Users\\LENOVO\\AppData\\Local\\Temp\\ipykernel_11760\\4034486623.py:6: UserWarning: Parsing '27-12-2022' in DD/MM/YYYY format. Provide format or specify infer_datetime_format=True for consistent parsing.\n",
      "  Data_Frame_For_SVM['Date'] = pd.to_datetime(Data_Frame_For_SVM['Date'])\n",
      "C:\\Users\\LENOVO\\AppData\\Local\\Temp\\ipykernel_11760\\4034486623.py:6: UserWarning: Parsing '26-12-2022' in DD/MM/YYYY format. Provide format or specify infer_datetime_format=True for consistent parsing.\n",
      "  Data_Frame_For_SVM['Date'] = pd.to_datetime(Data_Frame_For_SVM['Date'])\n",
      "C:\\Users\\LENOVO\\AppData\\Local\\Temp\\ipykernel_11760\\4034486623.py:6: UserWarning: Parsing '25-12-2022' in DD/MM/YYYY format. Provide format or specify infer_datetime_format=True for consistent parsing.\n",
      "  Data_Frame_For_SVM['Date'] = pd.to_datetime(Data_Frame_For_SVM['Date'])\n",
      "C:\\Users\\LENOVO\\AppData\\Local\\Temp\\ipykernel_11760\\4034486623.py:6: UserWarning: Parsing '24-12-2022' in DD/MM/YYYY format. Provide format or specify infer_datetime_format=True for consistent parsing.\n",
      "  Data_Frame_For_SVM['Date'] = pd.to_datetime(Data_Frame_For_SVM['Date'])\n",
      "C:\\Users\\LENOVO\\AppData\\Local\\Temp\\ipykernel_11760\\4034486623.py:6: UserWarning: Parsing '23-12-2022' in DD/MM/YYYY format. Provide format or specify infer_datetime_format=True for consistent parsing.\n",
      "  Data_Frame_For_SVM['Date'] = pd.to_datetime(Data_Frame_For_SVM['Date'])\n",
      "C:\\Users\\LENOVO\\AppData\\Local\\Temp\\ipykernel_11760\\4034486623.py:6: UserWarning: Parsing '22-12-2022' in DD/MM/YYYY format. Provide format or specify infer_datetime_format=True for consistent parsing.\n",
      "  Data_Frame_For_SVM['Date'] = pd.to_datetime(Data_Frame_For_SVM['Date'])\n"
     ]
    }
   ],
   "source": [
    "# Copy Dataframe \n",
    "Data_Frame_For_SVM = combine_clean_data\n",
    "# print(\" ------------------------------------- Before Drop Column ------------------------------------- \")\n",
    "print(Data_Frame_For_SVM)\n",
    "\n",
    "Data_Frame_For_SVM['Date'] = pd.to_datetime(Data_Frame_For_SVM['Date'])\n",
    "\n",
    "# Set the date column as the index\n",
    "Data_Frame_For_SVM.set_index('Date', inplace=True)\n",
    "\n",
    "Clean_Data_Frame_For_SVM = Data_Frame_For_SVM.drop('Tweets', axis=1)\n",
    "print(Clean_Data_Frame_For_SVM)"
   ]
  },
  {
   "cell_type": "code",
   "execution_count": 44,
   "id": "fe37b2b1",
   "metadata": {
    "scrolled": true
   },
   "outputs": [],
   "source": [
    "# Step 1: Data Preparation\n",
    "# Assume X contains multiple feature columns and y is the target variable\n",
    "X = Clean_Data_Frame_For_SVM.drop('Prices', axis=1)\n",
    "y = Clean_Data_Frame_For_SVM['Prices']\n",
    "\n",
    "# print(\"! ---------------- X ---------------- !\")\n",
    "# print(X)\n",
    "# print(\"! ---------------- y ---------------- !\")\n",
    "# print(y)"
   ]
  },
  {
   "cell_type": "code",
   "execution_count": 45,
   "id": "5b8a2312",
   "metadata": {},
   "outputs": [],
   "source": [
    "# Step 2: Split the Data\n",
    "X_train, X_test, y_train, y_test = train_test_split(X, y, test_size=0.2, random_state=42)\n",
    "# print(\"! ----------------- X_train ----------------- !\")\n",
    "# print(X_train)\n",
    "# print(\"! ----------------- X_test ----------------- !\")\n",
    "# print(X_test)\n",
    "# print(\"! ----------------- y_train ----------------- !\")\n",
    "# print(y_train)\n",
    "# print(\"! ----------------- y_test ----------------- !\")\n",
    "# print(y_test)"
   ]
  },
  {
   "cell_type": "code",
   "execution_count": 46,
   "id": "b8a1e715",
   "metadata": {},
   "outputs": [],
   "source": [
    "# Step 3: Feature Scaling\n",
    "scaler = StandardScaler()\n",
    "X_train_scaled = scaler.fit_transform(X_train)\n",
    "X_test_scaled = scaler.transform(X_test)"
   ]
  },
  {
   "cell_type": "code",
   "execution_count": 48,
   "id": "d621735b",
   "metadata": {},
   "outputs": [
    {
     "name": "stderr",
     "output_type": "stream",
     "text": [
      "C:\\Users\\LENOVO\\AppData\\Local\\Programs\\Python\\Python310\\lib\\site-packages\\sklearn\\model_selection\\_split.py:684: UserWarning: The least populated class in y has only 1 members, which is less than n_splits=5.\n",
      "  warnings.warn(\n"
     ]
    },
    {
     "name": "stdout",
     "output_type": "stream",
     "text": [
      "Best Parameters:  {'C': 0.1, 'gamma': 0.1, 'kernel': 'rbf'}\n",
      "Best Score:  0.7439393939393939\n",
      "Mean Squared Error:  70.8\n"
     ]
    },
    {
     "data": {
      "text/plain": [
       "0.7413793103448276"
      ]
     },
     "execution_count": 48,
     "metadata": {},
     "output_type": "execute_result"
    }
   ],
   "source": [
    "# # Step 4: Model Training\n",
    "# svm_model = SVC(kernel='linear', C=1.0)\n",
    "# svm_model.fit(X_train_scaled, y_train)\n",
    "\n",
    "\n",
    "# Define the parameter grid for grid search\n",
    "param_grid = {'C': [0.1, 1, 10], 'gamma': [0.1, 1, 10], 'kernel': ['rbf', 'linear']}\n",
    "\n",
    "# Create an SVR model\n",
    "svr = SVC()\n",
    "\n",
    "# Create a GridSearchCV object\n",
    "grid_search = GridSearchCV(svr, param_grid, cv=5)\n",
    "\n",
    "# Fit the grid search to the training data\n",
    "grid_search.fit(X_train_scaled, y_train)\n",
    "\n",
    "# Get the best parameters and the best score\n",
    "best_params = grid_search.best_params_\n",
    "best_score = grid_search.best_score_\n",
    "\n",
    "# Print the best parameters and the best score\n",
    "print(\"Best Parameters: \", best_params)\n",
    "print(\"Best Score: \", best_score)\n",
    "\n",
    "# Evaluate the model with the best parameters on the test data\n",
    "best_svr = SVC(**best_params)\n",
    "best_svr.fit(X_train_scaled, y_train)\n",
    "y_pred = best_svr.predict(X_test_scaled)\n",
    "mse = mean_squared_error(y_test, y_pred)\n",
    "print(\"Mean Squared Error: \", mse)\n",
    "\n",
    "grid_search.score(X_train_scaled, y_train)"
   ]
  },
  {
   "cell_type": "markdown",
   "id": "4867d1a2",
   "metadata": {},
   "source": [
    "### Step 5: Model Evaluation"
   ]
  },
  {
   "cell_type": "code",
   "execution_count": 51,
   "id": "1b532436",
   "metadata": {},
   "outputs": [
    {
     "name": "stdout",
     "output_type": "stream",
     "text": [
      "Accuracy: 0.6\n"
     ]
    }
   ],
   "source": [
    "# Calculating accuracy\n",
    "accuracy = accuracy_score(y_test, y_pred)\n",
    "print(\"Accuracy:\", accuracy)"
   ]
  },
  {
   "cell_type": "code",
   "execution_count": null,
   "id": "a467618d",
   "metadata": {},
   "outputs": [],
   "source": []
  }
 ],
 "metadata": {
  "kernelspec": {
   "display_name": "Python 3 (ipykernel)",
   "language": "python",
   "name": "python3"
  },
  "language_info": {
   "codemirror_mode": {
    "name": "ipython",
    "version": 3
   },
   "file_extension": ".py",
   "mimetype": "text/x-python",
   "name": "python",
   "nbconvert_exporter": "python",
   "pygments_lexer": "ipython3",
   "version": "3.10.6"
  },
  "vscode": {
   "interpreter": {
    "hash": "f2ccb58c476f33ba3e3aee7ac07234ef6b8217ef24ad64d2a7d4fed1a57c1cd2"
   }
  }
 },
 "nbformat": 4,
 "nbformat_minor": 5
}
